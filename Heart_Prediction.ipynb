{
 "cells": [
  {
   "cell_type": "code",
   "execution_count": 1,
   "id": "7d290345",
   "metadata": {},
   "outputs": [],
   "source": [
    "# Import necessary libraries\n",
    "import numpy as np\n",
    "import pandas  as pd\n",
    "from sklearn.model_selection import train_test_split\n",
    "import pickle\n",
    "from sklearn.linear_model import LogisticRegression\n",
    "import warnings\n",
    "warnings.filterwarnings('ignore')\n",
    "\n",
    "# Load the dataset\n",
    "df=pd.read_csv(\"heart_2020_cleaned.csv\")"
   ]
  },
  {
   "cell_type": "code",
   "execution_count": 11,
   "id": "a910e228",
   "metadata": {},
   "outputs": [
    {
     "data": {
      "text/plain": [
       "(301717, 17)"
      ]
     },
     "execution_count": 11,
     "metadata": {},
     "output_type": "execute_result"
    }
   ],
   "source": [
    "df.shape"
   ]
  },
  {
   "cell_type": "code",
   "execution_count": 2,
   "id": "e50443ac",
   "metadata": {},
   "outputs": [
    {
     "name": "stdout",
     "output_type": "stream",
     "text": [
      "Number of duplicated observations: 18078\n",
      "(301717, 18)\n"
     ]
    }
   ],
   "source": [
    "duplicateObser = df[df.duplicated()]\n",
    "LabelsDupObser=duplicateObser.axes[0].tolist()\n",
    "print('Number of duplicated observations:', duplicateObser.shape[0])\n",
    "df=df.drop_duplicates()\n",
    "print(df.shape)"
   ]
  },
  {
   "cell_type": "code",
   "execution_count": 3,
   "id": "e31af833",
   "metadata": {},
   "outputs": [],
   "source": [
    "df.replace(\"Yes\",1,inplace=True)\n",
    "df.replace(\"No\",0,inplace=True)\n",
    "\n",
    "target=df[\"HeartDisease\"]\n",
    "df.drop([\"HeartDisease\"], axis=1, inplace=True)\n",
    "df.AgeCategory.unique()\n",
    "df.replace(\"18-24\",0,inplace=True)\n",
    "df.replace(\"25-29\",1,inplace=True)\n",
    "df.replace(\"30-34\",2,inplace=True)\n",
    "df.replace(\"35-39\",3,inplace=True)\n",
    "df.replace(\"40-44\",4,inplace=True)\n",
    "df.replace(\"45-49\",5,inplace=True)\n",
    "df.replace(\"50-54\",6,inplace=True)\n",
    "df.replace(\"55-59\",7,inplace=True)\n",
    "df.replace(\"60-64\",8,inplace=True)\n",
    "df.replace(\"65-69\",9,inplace=True)\n",
    "df.replace(\"70-74\",10,inplace=True)\n",
    "df.replace(\"75-79\",11,inplace=True)\n",
    "df.replace(\"80 or older\",13,inplace=True)\n",
    "\n",
    "df.Diabetic.unique()\n",
    "df.replace(\"No, borderline diabetes\",2,inplace=True)\n",
    "df.replace(\"Yes (during pregnancy)\",3,inplace=True)\n",
    "\n",
    "df.GenHealth.unique()\n",
    "df.replace(\"Excellent\",0,inplace=True)\n",
    "df.replace(\"Good\",1,inplace=True)\n",
    "df.replace(\"Fair\",2,inplace=True)\n",
    "df.replace(\"Very good\",3,inplace=True)\n",
    "df.replace(\"Poor\",4,inplace=True)\n",
    "\n",
    "df.Race.unique()\n",
    "df.replace(\"White\",0,inplace=True)\n",
    "df.replace(\"Other\",1,inplace=True)\n",
    "df.replace(\"Black\",2,inplace=True)\n",
    "df.replace(\"Hispanic\",3,inplace=True)\n",
    "df.replace(\"Asian\",4,inplace=True)\n",
    "df.replace(\"American Indian/Alaskan Native\",4,inplace=True)\n",
    "\n",
    "df.Sex.unique()\n",
    "df.replace(\"Female\",0,inplace=True)\n",
    "df.replace(\"Male\",1,inplace=True)\n",
    "\n",
    "df['BMI'].mask(df['BMI']  < 18.5, 0, inplace=True)\n",
    "df['BMI'].mask(df['BMI'].between(18.5,25), 1, inplace=True)\n",
    "df['BMI'].mask(df['BMI'].between(25,30), 2, inplace=True)\n",
    "df['BMI'].mask(df['BMI']  > 30, 3, inplace=True)"
   ]
  },
  {
   "cell_type": "code",
   "execution_count": 4,
   "id": "ad36bb8f",
   "metadata": {},
   "outputs": [
    {
     "data": {
      "text/html": [
       "<style>#sk-container-id-1 {color: black;}#sk-container-id-1 pre{padding: 0;}#sk-container-id-1 div.sk-toggleable {background-color: white;}#sk-container-id-1 label.sk-toggleable__label {cursor: pointer;display: block;width: 100%;margin-bottom: 0;padding: 0.3em;box-sizing: border-box;text-align: center;}#sk-container-id-1 label.sk-toggleable__label-arrow:before {content: \"▸\";float: left;margin-right: 0.25em;color: #696969;}#sk-container-id-1 label.sk-toggleable__label-arrow:hover:before {color: black;}#sk-container-id-1 div.sk-estimator:hover label.sk-toggleable__label-arrow:before {color: black;}#sk-container-id-1 div.sk-toggleable__content {max-height: 0;max-width: 0;overflow: hidden;text-align: left;background-color: #f0f8ff;}#sk-container-id-1 div.sk-toggleable__content pre {margin: 0.2em;color: black;border-radius: 0.25em;background-color: #f0f8ff;}#sk-container-id-1 input.sk-toggleable__control:checked~div.sk-toggleable__content {max-height: 200px;max-width: 100%;overflow: auto;}#sk-container-id-1 input.sk-toggleable__control:checked~label.sk-toggleable__label-arrow:before {content: \"▾\";}#sk-container-id-1 div.sk-estimator input.sk-toggleable__control:checked~label.sk-toggleable__label {background-color: #d4ebff;}#sk-container-id-1 div.sk-label input.sk-toggleable__control:checked~label.sk-toggleable__label {background-color: #d4ebff;}#sk-container-id-1 input.sk-hidden--visually {border: 0;clip: rect(1px 1px 1px 1px);clip: rect(1px, 1px, 1px, 1px);height: 1px;margin: -1px;overflow: hidden;padding: 0;position: absolute;width: 1px;}#sk-container-id-1 div.sk-estimator {font-family: monospace;background-color: #f0f8ff;border: 1px dotted black;border-radius: 0.25em;box-sizing: border-box;margin-bottom: 0.5em;}#sk-container-id-1 div.sk-estimator:hover {background-color: #d4ebff;}#sk-container-id-1 div.sk-parallel-item::after {content: \"\";width: 100%;border-bottom: 1px solid gray;flex-grow: 1;}#sk-container-id-1 div.sk-label:hover label.sk-toggleable__label {background-color: #d4ebff;}#sk-container-id-1 div.sk-serial::before {content: \"\";position: absolute;border-left: 1px solid gray;box-sizing: border-box;top: 0;bottom: 0;left: 50%;z-index: 0;}#sk-container-id-1 div.sk-serial {display: flex;flex-direction: column;align-items: center;background-color: white;padding-right: 0.2em;padding-left: 0.2em;position: relative;}#sk-container-id-1 div.sk-item {position: relative;z-index: 1;}#sk-container-id-1 div.sk-parallel {display: flex;align-items: stretch;justify-content: center;background-color: white;position: relative;}#sk-container-id-1 div.sk-item::before, #sk-container-id-1 div.sk-parallel-item::before {content: \"\";position: absolute;border-left: 1px solid gray;box-sizing: border-box;top: 0;bottom: 0;left: 50%;z-index: -1;}#sk-container-id-1 div.sk-parallel-item {display: flex;flex-direction: column;z-index: 1;position: relative;background-color: white;}#sk-container-id-1 div.sk-parallel-item:first-child::after {align-self: flex-end;width: 50%;}#sk-container-id-1 div.sk-parallel-item:last-child::after {align-self: flex-start;width: 50%;}#sk-container-id-1 div.sk-parallel-item:only-child::after {width: 0;}#sk-container-id-1 div.sk-dashed-wrapped {border: 1px dashed gray;margin: 0 0.4em 0.5em 0.4em;box-sizing: border-box;padding-bottom: 0.4em;background-color: white;}#sk-container-id-1 div.sk-label label {font-family: monospace;font-weight: bold;display: inline-block;line-height: 1.2em;}#sk-container-id-1 div.sk-label-container {text-align: center;}#sk-container-id-1 div.sk-container {/* jupyter's `normalize.less` sets `[hidden] { display: none; }` but bootstrap.min.css set `[hidden] { display: none !important; }` so we also need the `!important` here to be able to override the default hidden behavior on the sphinx rendered scikit-learn.org. See: https://github.com/scikit-learn/scikit-learn/issues/21755 */display: inline-block !important;position: relative;}#sk-container-id-1 div.sk-text-repr-fallback {display: none;}</style><div id=\"sk-container-id-1\" class=\"sk-top-container\"><div class=\"sk-text-repr-fallback\"><pre>LogisticRegression()</pre><b>In a Jupyter environment, please rerun this cell to show the HTML representation or trust the notebook. <br />On GitHub, the HTML representation is unable to render, please try loading this page with nbviewer.org.</b></div><div class=\"sk-container\" hidden><div class=\"sk-item\"><div class=\"sk-estimator sk-toggleable\"><input class=\"sk-toggleable__control sk-hidden--visually\" id=\"sk-estimator-id-1\" type=\"checkbox\" checked><label for=\"sk-estimator-id-1\" class=\"sk-toggleable__label sk-toggleable__label-arrow\">LogisticRegression</label><div class=\"sk-toggleable__content\"><pre>LogisticRegression()</pre></div></div></div></div></div>"
      ],
      "text/plain": [
       "LogisticRegression()"
      ]
     },
     "execution_count": 4,
     "metadata": {},
     "output_type": "execute_result"
    }
   ],
   "source": [
    "# Split the data into training and testing\n",
    "X_train,X_test,y_train,y_test = train_test_split(df,target,test_size=50,random_state=2)\n",
    "\n",
    "# Train a logistic regression model on the training set\n",
    "LogRegModel=LogisticRegression()\n",
    "LogRegModel.fit(X_train, y_train)"
   ]
  },
  {
   "cell_type": "code",
   "execution_count": 5,
   "id": "b86bc1e8",
   "metadata": {},
   "outputs": [],
   "source": [
    "# Save the model using pickle\n",
    "import pickle \n",
    "\n",
    "with open('LogRegModel.pkl', 'wb') as f:\n",
    "    pickle.dump(LogRegModel, f)"
   ]
  },
  {
   "cell_type": "code",
   "execution_count": 6,
   "id": "e7206ed5",
   "metadata": {},
   "outputs": [
    {
     "name": "stdout",
     "output_type": "stream",
     "text": [
      "Test Case:\n",
      "BMI: 20.34\n",
      "Smoking: Yes\n",
      "Alcohol Drinking: No\n",
      "\n",
      "Predicted Results:\n",
      "Probability of Heart Disease: 0.4401355051777548\n",
      "Heart Disease: No\n"
     ]
    }
   ],
   "source": [
    "# Sample test case\n",
    "test_case = [\n",
    "    20.34,#BMI\n",
    "    1,  # Smoking (0 for No, 1 for Yes)\n",
    "    0,  # AlcoholDrinking (0 for No, 1 for Yes)\n",
    "    0,  # Stroke (0 for No, 1 for Yes)\n",
    "    3,  # PhysicalHealth (assuming it's on a scale of 0 to 3)\n",
    "    3,  # MentalHealth (assuming it's on a scale of 0 to 3)\n",
    "    0,  # DiffWalking (0 for No, 1 for Yes)\n",
    "    0,  # Sex (0 for Female, 1 for Male)\n",
    "    7,  # AgeCategory\n",
    "    0,  # Race (assuming it's encoded similarly to your web app)\n",
    "    1,  # Diabetic (assuming it's encoded similarly to your web app)\n",
    "    1,  # PhysicalActivity (0 for No, 1 for Yes)\n",
    "    3,  # GenHealth (assuming it's on a scale of 0 to 4)\n",
    "    1,  # SleepTime (0 for No, 1 for Yes)\n",
    "    0,  # Asthma (0 for No, 1 for Yes)\n",
    "    0,  # KidneyDisease (0 for No, 1 for Yes)\n",
    "    0   # Skincancer (0 for No, 1 for Yes)\n",
    "]\n",
    "\n",
    "# Predict probability for the test case\n",
    "prob = LogRegModel.predict_proba(np.array(test_case).reshape(1, -1))[0][1]  # Probability of heart disease\n",
    "prediction = LogRegModel.predict(np.array(test_case).reshape(1, -1))[0]     # Predicted class (0 for No, 1 for Yes)\n",
    "\n",
    "# Display the test case and predicted results\n",
    "print(\"Test Case:\")\n",
    "print(\"BMI:\", test_case[0])\n",
    "print(\"Smoking:\", \"Yes\" if test_case[1] == 1 else \"No\")\n",
    "print(\"Alcohol Drinking:\", \"Yes\" if test_case[2] == 1 else \"No\")\n",
    "# Display other features similarly...\n",
    "\n",
    "print(\"\\nPredicted Results:\")\n",
    "print(\"Probability of Heart Disease:\", prob)\n",
    "print(\"Heart Disease:\", \"Yes\" if prediction == 1 else \"No\")\n"
   ]
  },
  {
   "cell_type": "code",
   "execution_count": 7,
   "id": "ff363f42",
   "metadata": {},
   "outputs": [
    {
     "name": "stdout",
     "output_type": "stream",
     "text": [
      "Test Case:\n",
      "BMI: 25.34\n",
      "Smoking: No\n",
      "Alcohol Drinking: No\n",
      "\n",
      "Predicted Results:\n",
      "Probability of Heart Disease: 0.9616121684175332\n",
      "Heart Disease: Yes\n"
     ]
    }
   ],
   "source": [
    "# Sample test case\n",
    "test_case_2 = [\n",
    "    25.34,  # BMI\n",
    "    0,      # Smoking (0 for No, 1 for Yes)\n",
    "    0,      # AlcoholDrinking (0 for No, 1 for Yes)\n",
    "    1,      # Stroke (0 for No, 1 for Yes)\n",
    "    0,      # PhysicalHealth (assuming it's on a scale of 0 to 3)\n",
    "    0,      # MentalHealth (assuming it's on a scale of 0 to 3)\n",
    "    0,      # DiffWalking (0 for No, 1 for Yes)\n",
    "    0,      # Sex (0 for Female, 1 for Male)\n",
    "    13,     # AgeCategory\n",
    "    0,      # Race (assuming it's encoded similarly to your web app)\n",
    "    2,      # Diabetic (assuming it's encoded similarly to your web app)\n",
    "    1,      # PhysicalActivity (0 for No, 1 for Yes)\n",
    "    3,      # GenHealth (assuming it's on a scale of 0 to 4)\n",
    "    0,      # SleepTime (0 for No, 1 for Yes)\n",
    "    1,      # Asthma (0 for No, 1 for Yes)\n",
    "    0,     # KidneyDisease (0 for No, 1 for Yes)\n",
    "    0\n",
    "]\n",
    "\n",
    "\n",
    "# Predict probability for the test case\n",
    "prob_2 = LogRegModel.predict_proba(np.array(test_case_2).reshape(1, -1))[0][1]  # Probability of heart disease\n",
    "prediction_2 = LogRegModel.predict(np.array(test_case_2).reshape(1, -1))[0]     # Predicted class (0 for No, 1 for Yes)\n",
    "\n",
    "# Display the test case and predicted results\n",
    "print(\"Test Case:\")\n",
    "print(\"BMI:\", test_case_2[0])\n",
    "print(\"Smoking:\", \"Yes\" if test_case_2[1] == 1 else \"No\")\n",
    "print(\"Alcohol Drinking:\", \"Yes\" if test_case_2[2] == 1 else \"No\")\n",
    "# Display other features similarly...\n",
    "\n",
    "print(\"\\nPredicted Results:\")\n",
    "print(\"Probability of Heart Disease:\", prob_2)\n",
    "print(\"Heart Disease:\", \"Yes\" if prediction_2 == 1 else \"No\")\n"
   ]
  },
  {
   "cell_type": "code",
   "execution_count": 8,
   "id": "703eab1c",
   "metadata": {},
   "outputs": [
    {
     "name": "stdout",
     "output_type": "stream",
     "text": [
      "Cross-Validation Results:\n",
      "Accuracy: [0.91026448 0.91034734 0.91006413 0.90958355 0.91072701]\n",
      "Precision: [0.51717734 0.52440409 0.51384275 0.4978022  0.53536453]\n",
      "Recall: [0.10216434 0.08472401 0.08510638 0.08308877 0.09024211]\n",
      "F1 Score: [0.17062337 0.14587938 0.14602675 0.14240805 0.15444985]\n"
     ]
    }
   ],
   "source": [
    "from sklearn.model_selection import cross_validate\n",
    "\n",
    "# Define the logistic regression model\n",
    "log_reg = LogisticRegression()\n",
    "\n",
    "# Perform cross-validation\n",
    "cv_results = cross_validate(log_reg, df, target, cv=5, scoring=['accuracy', 'precision', 'recall', 'f1'])\n",
    "\n",
    "# Extract and print cross-validation results\n",
    "print(\"Cross-Validation Results:\")\n",
    "print(\"Accuracy:\", cv_results['test_accuracy'])\n",
    "print(\"Precision:\", cv_results['test_precision'])\n",
    "print(\"Recall:\", cv_results['test_recall'])\n",
    "print(\"F1 Score:\", cv_results['test_f1'])"
   ]
  },
  {
   "cell_type": "code",
   "execution_count": 9,
   "id": "79bfa93c",
   "metadata": {},
   "outputs": [
    {
     "name": "stdout",
     "output_type": "stream",
     "text": [
      "Best hyperparameters: {'C': 0.01, 'penalty': 'l2'}\n"
     ]
    }
   ],
   "source": [
    "from sklearn.model_selection import GridSearchCV\n",
    "\n",
    "# Define the parameter grid to search\n",
    "param_grid = {\n",
    "    'C': [0.001, 0.01, 0.1, 1, 10, 100],  # Regularization parameter\n",
    "    'penalty': ['l1', 'l2']                # Penalty norm\n",
    "}\n",
    "\n",
    "# Define the logistic regression model\n",
    "log_reg = LogisticRegression()\n",
    "\n",
    "# Create GridSearchCV object\n",
    "grid_search = GridSearchCV(estimator=log_reg, param_grid=param_grid, cv=5, scoring='accuracy')\n",
    "\n",
    "# Perform hyperparameter tuning\n",
    "grid_search.fit(df, target)\n",
    "\n",
    "# Print the best hyperparameters found\n",
    "print(\"Best hyperparameters:\", grid_search.best_params_)\n",
    "\n",
    "# Get the best model\n",
    "best_model = grid_search.best_estimator_\n"
   ]
  },
  {
   "cell_type": "code",
   "execution_count": 10,
   "id": "462b35a5",
   "metadata": {},
   "outputs": [
    {
     "name": "stdout",
     "output_type": "stream",
     "text": [
      "Accuracy on the test set: 0.88\n"
     ]
    }
   ],
   "source": [
    "from sklearn.metrics import accuracy_score\n",
    "\n",
    "# Use the best model to make predictions on the test set\n",
    "y_pred_test = best_model.predict(X_test)\n",
    "\n",
    "# Calculate accuracy on the test set\n",
    "test_accuracy = accuracy_score(y_test, y_pred_test)\n",
    "\n",
    "# Print the accuracy on the test set\n",
    "print(\"Accuracy on the test set:\", test_accuracy)\n"
   ]
  },
  {
   "cell_type": "code",
   "execution_count": null,
   "id": "b616bdf8",
   "metadata": {},
   "outputs": [],
   "source": []
  }
 ],
 "metadata": {
  "kernelspec": {
   "display_name": "Python 3 (ipykernel)",
   "language": "python",
   "name": "python3"
  },
  "language_info": {
   "codemirror_mode": {
    "name": "ipython",
    "version": 3
   },
   "file_extension": ".py",
   "mimetype": "text/x-python",
   "name": "python",
   "nbconvert_exporter": "python",
   "pygments_lexer": "ipython3",
   "version": "3.11.5"
  }
 },
 "nbformat": 4,
 "nbformat_minor": 5
}
